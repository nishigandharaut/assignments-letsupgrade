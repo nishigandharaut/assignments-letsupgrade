{
 "cells": [
  {
   "cell_type": "markdown",
   "metadata": {},
   "source": [
    "Q1:TO CREATE A NEW DICTIONARY IN WHICH KEYS BECOMES VALUES AND VALUES BECOMES KEYS\n",
    "    \n",
    "    "
   ]
  },
  {
   "cell_type": "code",
   "execution_count": 1,
   "metadata": {},
   "outputs": [
    {
     "name": "stdout",
     "output_type": "stream",
     "text": [
      "The output: {'ftp': 21, 'ssh': 22, 'telnet': 23, 'http': 80}\n"
     ]
    }
   ],
   "source": [
    "dict1 = {21:\"ftp\",22:\"ssh\",23:\"telnet\",80:\"http\"}\n",
    "dict2 ={value:key for key,value in dict1.items()}\n",
    "print(\"The output:\",dict2)"
   ]
  },
  {
   "cell_type": "markdown",
   "metadata": {},
   "source": [
    "Q2: MAKE A NEW LIST WHICH CONTAINS THE SUM OF TUPLE.."
   ]
  },
  {
   "cell_type": "code",
   "execution_count": 5,
   "metadata": {},
   "outputs": [
    {
     "name": "stdout",
     "output_type": "stream",
     "text": [
      " sum of tuple: [3]\n",
      " sum of tuple: [3, 7]\n",
      " sum of tuple: [3, 7, 11]\n",
      " sum of tuple: [3, 7, 11, 9]\n"
     ]
    }
   ],
   "source": [
    "list1=[(1,2),(3,4),(5,6),(4,5)]\n",
    "list2=[]\n",
    "for each in range(0,len(list1)):\n",
    " a,b=list1[each]\n",
    " list2.append(a+b)\n",
    " print(\" sum of tuple:\",list2)\n",
    "\n"
   ]
  },
  {
   "cell_type": "markdown",
   "metadata": {},
   "source": [
    "Q3:TO MAKE THE ELEMENT IN THE INNER LIST AND TUPLE TO THE OUTER LIST."
   ]
  },
  {
   "cell_type": "code",
   "execution_count": 8,
   "metadata": {},
   "outputs": [
    {
     "name": "stdout",
     "output_type": "stream",
     "text": [
      " required output: [1, 2, 3, 1, 2, 'a', 'hit', 'less']\n"
     ]
    }
   ],
   "source": [
    "list1=[(1,2,3),[1,2],['a','hit','less']]\n",
    "list2=[]\n",
    "list2=[i for each in list1 for i in each]\n",
    "print (\" required output:\",list2)"
   ]
  },
  {
   "cell_type": "code",
   "execution_count": null,
   "metadata": {},
   "outputs": [],
   "source": []
  }
 ],
 "metadata": {},
 "nbformat": 4,
 "nbformat_minor": 4
}
