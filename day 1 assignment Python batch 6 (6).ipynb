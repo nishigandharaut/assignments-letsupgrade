{
 "cells": [
  {
   "cell_type": "markdown",
   "metadata": {},
   "source": [
    "#WHAT IS PYTHON?"
   ]
  },
  {
   "cell_type": "markdown",
   "metadata": {},
   "source": [
    "Python is general purpose popular coding languge.It can be used for other type of programming and software developments besides \n",
    "Web development. Its language constructs and object-oriented approach aim to help programmers write clear, logical code for small and large-scale projects."
   ]
  },
  {
   "cell_type": "markdown",
   "metadata": {},
   "source": [
    "#ways to download Python in PC"
   ]
  },
  {
   "cell_type": "markdown",
   "metadata": {},
   "source": [
    "1. Search free anaconda distribution in google.Download Python 3.7.4 version."
   ]
  },
  {
   "cell_type": "markdown",
   "metadata": {},
   "source": [
    "  2.Move the downloaded file to a  permanent location, to install Python.\n",
    "\n"
   ]
  },
  {
   "cell_type": "markdown",
   "metadata": {},
   "source": [
    "#What is Code enviorment"
   ]
  },
  {
   "cell_type": "markdown",
   "metadata": {},
   "source": [
    "The code environment is a environment where we can write our shot down chod, compile that code and where we can see output of that code.\n",
    "\n",
    "Types.\n",
    "\n",
    "A. Text editor-1.General editor for any text file.\n",
    "               2.Work with variety of type file.\n",
    "               \n",
    "B. Full IDE's- 1.Development enviorments desinged specially for python.\n",
    "                2.larger program and only community editors are free.\n",
    "\n",
    "C. Notebook Environment-1.Great for learnind.\n",
    "                         2.see input and output next to each file."
   ]
  },
  {
   "cell_type": "code",
   "execution_count": null,
   "metadata": {},
   "outputs": [],
   "source": []
  }
 ],
 "metadata": {
  "kernelspec": {
   "display_name": "Python 3",
   "language": "python",
   "name": "python3"
  },
  "language_info": {
   "codemirror_mode": {
    "name": "ipython",
    "version": 3
   },
   "file_extension": ".py",
   "mimetype": "text/x-python",
   "name": "python",
   "nbconvert_exporter": "python",
   "pygments_lexer": "ipython3",
   "version": "3.7.6"
  }
 },
 "nbformat": 4,
 "nbformat_minor": 4
}
